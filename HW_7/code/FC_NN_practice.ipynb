{
 "cells": [
  {
   "cell_type": "markdown",
   "metadata": {
    "colab_type": "text",
    "id": "view-in-github"
   },
   "source": [
    "<a href=\"https://colab.research.google.com/github/danon6868/BI-ml-2024/blob/main/lecture_8_pytorch/homework/FC_NN_practice.ipynb\" target=\"_parent\"><img src=\"https://colab.research.google.com/assets/colab-badge.svg\" alt=\"Open In Colab\"/></a>"
   ]
  },
  {
   "cell_type": "markdown",
   "metadata": {
    "id": "-pSGPQS8Btmc"
   },
   "source": [
    "Всем привет! Сегодня вы впервые попробуете написать свою собственную нейронную сеть и попробовать ее обучить. Мы будем работать с картинками, но пока что не совсем тем способом, которым лучше всего это делать, но должно получиться неплохо.\n",
    "\n",
    "Будем работать с [датасетом](https://github.com/rois-codh/kmnist) `Kuzushiji-MNIST` (`KMNIST`). Это рукописные буквы, изображения имеют размер (28, 28, 1) и разделены на 10 классов, по ссылке можно прочитать подробнее."
   ]
  },
  {
   "cell_type": "code",
   "execution_count": 41,
   "metadata": {
    "id": "75HVAP_RFU7r"
   },
   "outputs": [],
   "source": [
    "import numpy as np\n",
    "import torch\n",
    "import torch.nn as nn\n",
    "import torch.nn.functional as F\n",
    "import matplotlib.pyplot as plt\n",
    "from IPython.display import clear_output"
   ]
  },
  {
   "cell_type": "markdown",
   "metadata": {
    "id": "46iQ8ixtEruP"
   },
   "source": [
    "## Загрузка данных"
   ]
  },
  {
   "cell_type": "markdown",
   "metadata": {
    "id": "R6h1jVreJlV-"
   },
   "source": [
    "Сейчас мы будем использовать встроенные данные, но в реальности приходится писать свой класс для датасета (Dataset), у которого реализовывать несколько обязательных методов (напр, `__getitem__`), но это обсудим уже потом."
   ]
  },
  {
   "cell_type": "code",
   "execution_count": 194,
   "metadata": {
    "id": "s9L9Z02o_1bK"
   },
   "outputs": [],
   "source": [
    "import torchvision\n",
    "from torchvision.datasets import KMNIST\n",
    "\n",
    "\n",
    "# Превращает картинки в тензоры\n",
    "transform = torchvision.transforms.Compose(\n",
    "    [torchvision.transforms.ToTensor()])\n",
    "\n",
    "# Загрузим данные (в переменных лежат объекты типа `Dataset`)\n",
    "# В аргумент `transform` мы передаем необходимые трансформации (ToTensor)\n",
    "trainset = KMNIST(root=\"../data/KMNIST\", train=True, download=True, transform=transform)\n",
    "testset = KMNIST(root=\"../data/KMNIST\", train=False, download=True, transform=transform)\n",
    "\n",
    "clear_output()"
   ]
  },
  {
   "cell_type": "markdown",
   "metadata": {
    "id": "V83E2vDrO9CC"
   },
   "source": [
    "Определим даталоадеры, они нужны, чтобы реализовывать стохастический градиентный спуск (то есть мы не хотим считывать в оперативную память все картинки сразу, а делать это батчами)."
   ]
  },
  {
   "cell_type": "code",
   "execution_count": 177,
   "metadata": {
    "id": "oqC8XO8pO8Px"
   },
   "outputs": [],
   "source": [
    "from torch.utils.data import DataLoader\n",
    "\n",
    "\n",
    "# Можно оставить таким\n",
    "batch_size = 256\n",
    "\n",
    "trainloader = DataLoader(trainset, batch_size=batch_size, shuffle=True, num_workers=2)\n",
    "testloader = DataLoader(testset, batch_size=batch_size, shuffle=False, num_workers=2)"
   ]
  },
  {
   "cell_type": "markdown",
   "metadata": {
    "id": "-Ntp5sLoPyGx"
   },
   "source": [
    "Подумайте, как может влиять на скорость обучения параметр `batch_size`, почему вы так считаете?\n",
    "\n",
    "**Ответ:**\n",
    "Чем больше `batch_size`, тем быстрее модель учится. Получается с увеличением размера бача усреднение градиентов будет происходить по выборке данных более приближенному ко всему набору"
   ]
  },
  {
   "cell_type": "markdown",
   "metadata": {
    "id": "t2vmM4KaHvrs"
   },
   "source": [
    "Посмотрим на какую-нибудь картинку:"
   ]
  },
  {
   "cell_type": "code",
   "execution_count": 4,
   "metadata": {
    "colab": {
     "base_uri": "https://localhost:8080/",
     "height": 266
    },
    "id": "N-b-kFCYAoOP",
    "outputId": "d077a35b-f874-40c2-e1da-1f461c11172f"
   },
   "outputs": [
    {
     "data": {
      "image/png": "[encoded data removed]",
      "text/plain": [
       "<Figure size 640x480 with 1 Axes>"
      ]
     },
     "metadata": {},
     "output_type": "display_data"
    }
   ],
   "source": [
    "plt.imshow(trainset[0][0].view(28, 28).numpy(), cmap=\"gray\")\n",
    "plt.axis(\"off\")\n",
    "plt.title(f\"Class is {trainset[0][1]}\", fontsize=16);"
   ]
  },
  {
   "cell_type": "markdown",
   "metadata": {
    "id": "8_MSY231Hzz9"
   },
   "source": [
    "### Задание 1. Смотрим на картинки\n",
    "\n",
    "**2** балла\n",
    "\n",
    "Нарисуйте на одном графике изображения всех 10 классов:"
   ]
  },
  {
   "cell_type": "markdown",
   "metadata": {
    "id": "j0tNdHM5JS6l"
   },
   "source": [
    "⣿⣿⣿⣿⣿⣿⠿⢋⣥⣴⣶⣶⣶⣬⣙⠻⠟⣋⣭⣭⣭⣭⡙⠻⣿⣿⣿⣿⣿\n",
    "⣿⣿⣿⣿⡿⢋⣴⣿⣿⠿⢟⣛⣛⣛⠿⢷⡹⣿⣿⣿⣿⣿⣿⣆⠹⣿⣿⣿⣿\n",
    "⣿⣿⣿⡿⢁⣾⣿⣿⣴⣿⣿⣿⣿⠿⠿⠷⠥⠱⣶⣶⣶⣶⡶⠮⠤⣌⡙⢿⣿\n",
    "⣿⡿⢛⡁⣾⣿⣿⣿⡿⢟⡫⢕⣪⡭⠥⢭⣭⣉⡂⣉⡒⣤⡭⡉⠩⣥⣰⠂⠹\n",
    "⡟⢠⣿⣱⣿⣿⣿⣏⣛⢲⣾⣿⠃⠄⠐⠈⣿⣿⣿⣿⣿⣿⠄⠁⠃⢸⣿⣿⡧\n",
    "⢠⣿⣿⣿⣿⣿⣿⣿⣿⣇⣊⠙⠳⠤⠤⠾⣟⠛⠍⣹⣛⣛⣢⣀⣠⣛⡯⢉⣰\n",
    "⣿⣿⣿⣿⣿⣿⣿⣿⣿⣿⣿⣿⣷⡶⠶⢒⣠⣼⣿⣿⣛⠻⠛⢛⣛⠉⣴⣿⣿\n",
    "⣿⣿⣿⣿⣿⣿⣿⡿⢛⡛⢿⣿⣿⣶⣿⣿⣿⣿⣿⣿⣿⣿⣿⣿⣿⣷⡈⢿⣿\n",
    "⣿⣿⣿⣿⣿⣿⣿⠸⣿⡻⢷⣍⣛⠻⠿⠿⣿⣿⣿⣿⣿⣿⣿⣿⣿⠿⢇⡘⣿\n",
    "⣿⣿⣿⣿⣿⣿⣿⣷⣝⠻⠶⣬⣍⣛⣛⠓⠶⠶⠶⠤⠬⠭⠤⠶⠶⠞⠛⣡⣿\n",
    "⢿⣿⣿⣿⣿⣿⣿⣿⣿⣿⣷⣶⣬⣭⣍⣙⣛⣛⣛⠛⠛⠛⠿⠿⠿⠛⣠⣿⣿\n",
    "⣦⣈⠉⢛⠻⠿⠿⢿⣿⣿⣿⣿⣿⣿⣿⣿⣿⣿⣿⡿⠿⠛⣁⣴⣾⣿⣿⣿⣿\n",
    "⣿⣿⣿⣶⣮⣭⣁⣒⣒⣒⠂⠠⠬⠭⠭⠭⢀⣀⣠⣄⡘⠿⣿⣿⣿⣿⣿⣿⣿\n",
    "⣿⣿⣿⣿⣿⣿⣿⣿⣿⣿⣿⣿⣿⣿⣿⣿⣿⣿⣿⣿⣿⣦⡈⢿⣿⣿⣿⣿⣿\n",
    "\n",
    "\n",
    "\n"
   ]
  },
  {
   "cell_type": "code",
   "execution_count": 15,
   "metadata": {
    "id": "x3j6Bsu9AoT6"
   },
   "outputs": [],
   "source": [
    "dataiter = iter(trainloader)\n",
    "images, labels = next(dataiter)"
   ]
  },
  {
   "cell_type": "code",
   "execution_count": 69,
   "metadata": {},
   "outputs": [
    {
     "data": {
      "text/plain": [
       "torch.Size([96, 784])"
      ]
     },
     "execution_count": 69,
     "metadata": {},
     "output_type": "execute_result"
    }
   ],
   "source": [
    "images.view(-1, 28*28).shape"
   ]
  },
  {
   "cell_type": "code",
   "execution_count": 66,
   "metadata": {},
   "outputs": [
    {
     "data": {
      "image/png": "[encoded data removed]",
      "text/plain": [
       "<Figure size 640x480 with 10 Axes>"
      ]
     },
     "metadata": {},
     "output_type": "display_data"
    }
   ],
   "source": [
    "for i in range(10):\n",
    "    plt.subplot(2, 5, i+1)\n",
    "    image = images[labels == i][0].squeeze().numpy()\n",
    "    plt.imshow(image, cmap='gray')\n",
    "    plt.title(f'Class {i}')\n",
    "    plt.axis('off')"
   ]
  },
  {
   "cell_type": "markdown",
   "metadata": {
    "id": "dLCfnFW-JtGx"
   },
   "source": [
    "### Задание 2. Строим свой первый MLP\n",
    "\n",
    "**4** балла\n",
    "\n",
    "MLP (multilayer perceptron) или нейронная сеть из полносвязных (линейных) слоев, это мы уже знаем.\n",
    "\n",
    "Опишите структуру сети: 3 полносвязных слоя + функции активации на ваш выбор. **Подумайте** про активацию после последнего слоя!\n",
    "\n",
    "Сеть на выходе 1 слоя должна иметь 256 признаков, на выходе из 2 128 признаков, на выходе из последнего столько, сколько у вас классов.\n",
    "\n",
    "https://pytorch.org/docs/stable/nn.html?highlight=activation#non-linear-activations-weighted-sum-nonlinearity"
   ]
  },
  {
   "cell_type": "code",
   "execution_count": 55,
   "metadata": {
    "id": "dhYBvQIXJdSz"
   },
   "outputs": [],
   "source": [
    "import torch.nn as nn\n",
    "\n",
    "class FCNet(nn.Module):\n",
    "    def __init__(self):\n",
    "        super().__init__() #  это надо помнить!\n",
    "        ## YOUR CODE HERE\n",
    "        self.fc1 = nn.Linear(in_features=28*28, out_features=256)\n",
    "        self.fc2 = nn.Linear(in_features=256, out_features=2128)\n",
    "        self.fc3 = nn.Linear(in_features=2128, out_features=10)\n",
    "\n",
    "\n",
    "    def forward(self, x):  # Forward вызывается внутри метода __call__ родительского класса\n",
    "        x = x.view(-1, 28*28)\n",
    "        x = self.fc1(x)\n",
    "        x = F.relu(x)\n",
    "        x = self.fc2(x)\n",
    "        x = F.relu(x)\n",
    "        logits = self.fc3(x)\n",
    "        ## x -> тензор размерности (BATCH_SIZE, N_CHANNELS, WIDTH, HEIGHT)\n",
    "        ## надо подумать над тем, что у нас полносвязные слои принимают векторы\n",
    "\n",
    "        ## YOUR CODE HERE\n",
    "\n",
    "        return logits"
   ]
  },
  {
   "cell_type": "markdown",
   "metadata": {
    "id": "uI0R77EQNKef"
   },
   "source": [
    "Сколько обучаемых параметров у вашей модели (весов и смещений)?\n",
    "\n",
    "**Ответ:**"
   ]
  },
  {
   "cell_type": "markdown",
   "metadata": {
    "id": "MvGiuoykrzzJ"
   },
   "source": [
    "self.fc1:      \n",
    "Веса: 28 * 28 * 256 = 7168       \n",
    "Смещения: 256      \n",
    "\n",
    "self.fc2:      \n",
    "Веса: 256 * 2128 = 545408      \n",
    "Смещения: 2128       \n",
    "Всего: 547536      \n",
    "\n",
    "self.fc3:       \n",
    "Веса: 2128 * 10 = 21280      \n",
    "Смещения: 10       \n",
    "Всего: 21290     \n",
    "\n",
    "**Общее количество параметров:** 579250 \n"
   ]
  },
  {
   "cell_type": "markdown",
   "metadata": {
    "id": "iwGllji2M4lp"
   },
   "source": [
    "### Задание 3. Напишите код для обучения модели\n",
    "\n",
    "**5** баллов\n",
    "\n",
    "Можно (и нужно) подглядывать в код семинара по пайторчу. Вам нужно создать модель, определить функцию потерь и оптимизатор (начнем с `SGD`). Дальше нужно обучать модель, при помощи тренировочного `Dataloader'a` и считать лосс на тренировочном и тестовом `Dataloader'ах`."
   ]
  },
  {
   "cell_type": "markdown",
   "metadata": {
    "id": "Grv9xcybRfCX"
   },
   "source": [
    "Напишем функцию для рассчета `accuracy`:"
   ]
  },
  {
   "cell_type": "code",
   "execution_count": 56,
   "metadata": {
    "id": "9D2QPFe5JdVc"
   },
   "outputs": [],
   "source": [
    "def get_accuracy(model, dataloader):\n",
    "    \"\"\"\n",
    "    model - обученная нейронная сеть\n",
    "    dataloader - даталоадер, на котором вы хотите посчитать accuracy\n",
    "    \"\"\"\n",
    "    correct = 0\n",
    "    total = 0\n",
    "    with torch.no_grad(): # Тензоры внутри этого блока будут иметь requires_grad=False\n",
    "        for images, labels in dataloader:\n",
    "            outputs = model(images)\n",
    "            _, predicted = torch.max(outputs.data, 1)\n",
    "            total += labels.size(0)\n",
    "            correct += (predicted == labels).sum().item()\n",
    "    accuracy = correct / total\n",
    "\n",
    "    return accuracy"
   ]
  },
  {
   "cell_type": "markdown",
   "metadata": {
    "id": "D3EmoWJyTBkE"
   },
   "source": [
    "#### Основной цикл обучения\n",
    "\n",
    "Этот код можно (и зачастую нужно) выносить в отдельную функцию, но пока что можете это не делать, все по желанию)"
   ]
  },
  {
   "cell_type": "code",
   "execution_count": 57,
   "metadata": {
    "id": "uIZKSOdgUi3e"
   },
   "outputs": [],
   "source": [
    "# Создадим объект модели\n",
    "fc_net = FCNet()\n",
    "# Определим функцию потерь\n",
    "loss_function = nn.CrossEntropyLoss()\n",
    "# Создадим оптимизатор для нашей сети\n",
    "lr = 0.001 # скорость обучения\n",
    "optimizer = torch.optim.Adam(fc_net.parameters(), lr=3e-4)"
   ]
  },
  {
   "cell_type": "markdown",
   "metadata": {
    "id": "uKYzXFqoX_fd"
   },
   "source": [
    "Напишите цикл обучения. Для начала хватит 10 эпох. Какое значение `accuracy` на тестовой выборке удалось получить?"
   ]
  },
  {
   "cell_type": "code",
   "execution_count": 59,
   "metadata": {
    "id": "Ma2bshC6MxI6"
   },
   "outputs": [],
   "source": [
    "n_epochs = 10\n",
    "loss_history = []\n",
    "\n",
    "for epoch in range(n_epochs):\n",
    "    epoch_loss = 0\n",
    "    for images, labels in trainloader: \n",
    "        optimizer.zero_grad()\n",
    "        outputs = fc_net(images) \n",
    "        loss = loss_function(outputs, labels) \n",
    "        loss.backward() \n",
    "        optimizer.step() \n",
    "\n",
    "        epoch_loss += loss.item()\n",
    "\n",
    "    loss_history.append(epoch_loss/len(trainloader))\n"
   ]
  },
  {
   "cell_type": "code",
   "execution_count": 60,
   "metadata": {
    "id": "2cB5LRbrS3BN"
   },
   "outputs": [
    {
     "data": {
      "text/plain": [
       "0.9042"
      ]
     },
     "execution_count": 60,
     "metadata": {},
     "output_type": "execute_result"
    }
   ],
   "source": [
    "get_accuracy(fc_net, testloader)"
   ]
  },
  {
   "cell_type": "markdown",
   "metadata": {
    "id": "4HTJzBM8Yk1R"
   },
   "source": [
    "### Задание 4. Изучение влияния нормализации\n",
    "\n",
    "**3** балла\n",
    "\n",
    "Вы могли заметить, что мы забыли провести нормализацию наших данных, а для нейронных сетей это может быть очень критично.\n",
    "\n",
    "Нормализуйте данные.\n",
    "\n",
    "* Подсчитайте среднее значение и стандартное отклонение интенсивности пикселей для всех тренировочных данных\n",
    "* Нормализуйте данные с использованием этих параметров (используйте трансформацию `Normalize`)\n",
    "\n",
    "\n",
    "Оцените влияние нормировки данных."
   ]
  },
  {
   "cell_type": "code",
   "execution_count": 95,
   "metadata": {},
   "outputs": [],
   "source": [
    "psum = torch.tensor([0.0, 0.0, 0.0])\n",
    "psum_sq = torch.tensor([0.0, 0.0, 0.0])\n",
    "\n",
    "# loop through images\n",
    "for images, labels in trainloader:\n",
    "    psum += images.sum(axis=[0,2,3])\n",
    "    psum_sq += (images**2).sum(axis=[0,2,3])\n",
    "\n",
    "count = len(trainset) * 28 * 28"
   ]
  },
  {
   "cell_type": "code",
   "execution_count": 111,
   "metadata": {
    "id": "FHlDaYWGR6YA"
   },
   "outputs": [
    {
     "name": "stdout",
     "output_type": "stream",
     "text": [
      "tensor(0.1918) tensor(0.3483)\n"
     ]
    }
   ],
   "source": [
    "mean = psum[0] / count\n",
    "std = torch.sqrt(psum_sq[0] / count - mean ** 2)\n",
    "print(mean, std)\n",
    "\n",
    "transform_with_norm = torchvision.transforms.Compose([\n",
    "                torchvision.transforms.ToTensor(),\n",
    "                torchvision.transforms.Normalize(mean, std)\n",
    "            ])\n",
    "\n",
    "trainset.transform = transform_with_norm\n",
    "testset.transform = transform_with_norm"
   ]
  },
  {
   "cell_type": "code",
   "execution_count": 112,
   "metadata": {
    "id": "Qj93J3X_R6aa"
   },
   "outputs": [],
   "source": [
    "fc_net = FCNet()\n",
    "loss_function = nn.CrossEntropyLoss()\n",
    "lr = 0.001\n",
    "optimizer = torch.optim.Adam(fc_net.parameters(), lr=3e-4)"
   ]
  },
  {
   "cell_type": "code",
   "execution_count": 113,
   "metadata": {
    "id": "VWZtYBCvAoWQ"
   },
   "outputs": [],
   "source": [
    "n_epochs = 10\n",
    "loss_history = []\n",
    "\n",
    "for epoch in range(n_epochs):\n",
    "    epoch_loss = 0\n",
    "    for images, labels in trainloader: \n",
    "        optimizer.zero_grad()\n",
    "        outputs = fc_net(images) \n",
    "        loss = loss_function(outputs, labels) \n",
    "        loss.backward() \n",
    "        optimizer.step() \n",
    "\n",
    "        epoch_loss += loss.item()\n",
    "\n",
    "    loss_history.append(epoch_loss/len(trainloader))\n",
    "\n"
   ]
  },
  {
   "cell_type": "code",
   "execution_count": 114,
   "metadata": {
    "id": "Gfbv9OIAAoYT"
   },
   "outputs": [
    {
     "data": {
      "text/plain": [
       "0.9058"
      ]
     },
     "execution_count": 114,
     "metadata": {},
     "output_type": "execute_result"
    }
   ],
   "source": [
    "get_accuracy(fc_net, testloader)"
   ]
  },
  {
   "cell_type": "markdown",
   "metadata": {
    "id": "RcIJvhWkcjlh"
   },
   "source": [
    "Как изменилась `accuracy` после нормализации?"
   ]
  },
  {
   "cell_type": "markdown",
   "metadata": {
    "id": "G1LHKF2PsZ4U"
   },
   "source": [
    "Увеличилась на 0.006"
   ]
  },
  {
   "cell_type": "markdown",
   "metadata": {
    "id": "atcfzu4acxP2"
   },
   "source": [
    "### Задание 5. Изучение влияния функции активации\n",
    "\n",
    "**3** балла\n",
    "\n",
    "Исследуйте влияние функций активации на скорость обучения и точность предсказаний модели.\n",
    "\n",
    "Используйте три функции:\n",
    "\n",
    "* [Sigmoid](https://pytorch.org/docs/stable/nn.functional.html#sigmoid)\n",
    "* [GELU](https://pytorch.org/docs/stable/nn.functional.html#gelu)\n",
    "* [Tanh](https://pytorch.org/docs/stable/generated/torch.nn.Tanh.html#torch.nn.Tanh)"
   ]
  },
  {
   "cell_type": "markdown",
   "metadata": {},
   "source": [
    "### Sigmoid"
   ]
  },
  {
   "cell_type": "code",
   "execution_count": 115,
   "metadata": {
    "id": "bAESPpjGa3M1"
   },
   "outputs": [],
   "source": [
    "class FCNet(nn.Module):\n",
    "    def __init__(self):\n",
    "        super().__init__() #  это надо помнить!\n",
    "        ## YOUR CODE HERE\n",
    "        self.fc1 = nn.Linear(in_features=28*28, out_features=256)\n",
    "        self.fc2 = nn.Linear(in_features=256, out_features=2128)\n",
    "        self.fc3 = nn.Linear(in_features=2128, out_features=10)\n",
    "\n",
    "\n",
    "    def forward(self, x):  # Forward вызывается внутри метода __call__ родительского класса\n",
    "        x = x.view(-1, 28*28)\n",
    "        x = self.fc1(x)\n",
    "        x = F.sigmoid(x)\n",
    "        x = self.fc2(x)\n",
    "        x = F.sigmoid(x)\n",
    "        logits = self.fc3(x)\n",
    "        ## x -> тензор размерности (BATCH_SIZE, N_CHANNELS, WIDTH, HEIGHT)\n",
    "        ## надо подумать над тем, что у нас полносвязные слои принимают векторы\n",
    "\n",
    "        ## YOUR CODE HERE\n",
    "\n",
    "        return logits"
   ]
  },
  {
   "cell_type": "code",
   "execution_count": 116,
   "metadata": {
    "id": "GdvHSFeKa2sW"
   },
   "outputs": [
    {
     "name": "stdout",
     "output_type": "stream",
     "text": [
      "CPU times: user 3min 31s, sys: 6.11 s, total: 3min 37s\n",
      "Wall time: 24.4 s\n"
     ]
    }
   ],
   "source": [
    "%%time\n",
    "n_epochs = 10\n",
    "loss_history = []\n",
    "\n",
    "n_epochs = 10\n",
    "loss_history = []\n",
    "\n",
    "for epoch in range(n_epochs):\n",
    "    epoch_loss = 0\n",
    "    for images, labels in trainloader: \n",
    "        optimizer.zero_grad()\n",
    "        outputs = fc_net(images) \n",
    "        loss = loss_function(outputs, labels) \n",
    "        loss.backward() \n",
    "        optimizer.step() \n",
    "\n",
    "        epoch_loss += loss.item()\n",
    "\n",
    "    loss_history.append(epoch_loss/len(trainloader))\n"
   ]
  },
  {
   "cell_type": "code",
   "execution_count": 117,
   "metadata": {
    "id": "zBok8pXNa2vA"
   },
   "outputs": [
    {
     "data": {
      "text/plain": [
       "0.9115"
      ]
     },
     "execution_count": 117,
     "metadata": {},
     "output_type": "execute_result"
    }
   ],
   "source": [
    "get_accuracy(fc_net, testloader)"
   ]
  },
  {
   "cell_type": "markdown",
   "metadata": {},
   "source": [
    "### GELU"
   ]
  },
  {
   "cell_type": "code",
   "execution_count": 118,
   "metadata": {},
   "outputs": [],
   "source": [
    "class FCNet(nn.Module):\n",
    "    def __init__(self):\n",
    "        super().__init__() #  это надо помнить!\n",
    "        ## YOUR CODE HERE\n",
    "        self.fc1 = nn.Linear(in_features=28*28, out_features=256)\n",
    "        self.fc2 = nn.Linear(in_features=256, out_features=2128)\n",
    "        self.fc3 = nn.Linear(in_features=2128, out_features=10)\n",
    "\n",
    "\n",
    "    def forward(self, x):  # Forward вызывается внутри метода __call__ родительского класса\n",
    "        x = x.view(-1, 28*28)\n",
    "        x = self.fc1(x)\n",
    "        x = F.gelu(x)\n",
    "        x = self.fc2(x)\n",
    "        x = F.gelu(x)\n",
    "        logits = self.fc3(x)\n",
    "        ## x -> тензор размерности (BATCH_SIZE, N_CHANNELS, WIDTH, HEIGHT)\n",
    "        ## надо подумать над тем, что у нас полносвязные слои принимают векторы\n",
    "\n",
    "        ## YOUR CODE HERE\n",
    "\n",
    "        return logits"
   ]
  },
  {
   "cell_type": "code",
   "execution_count": 119,
   "metadata": {},
   "outputs": [
    {
     "name": "stdout",
     "output_type": "stream",
     "text": [
      "CPU times: user 3min 32s, sys: 7.48 s, total: 3min 40s\n",
      "Wall time: 24.7 s\n"
     ]
    }
   ],
   "source": [
    "%%time\n",
    "n_epochs = 10\n",
    "loss_history = []\n",
    "\n",
    "n_epochs = 10\n",
    "loss_history = []\n",
    "\n",
    "for epoch in range(n_epochs):\n",
    "    epoch_loss = 0\n",
    "    for images, labels in trainloader: \n",
    "        optimizer.zero_grad()\n",
    "        outputs = fc_net(images) \n",
    "        loss = loss_function(outputs, labels) \n",
    "        loss.backward() \n",
    "        optimizer.step() \n",
    "\n",
    "        epoch_loss += loss.item()\n",
    "\n",
    "    loss_history.append(epoch_loss/len(trainloader))\n"
   ]
  },
  {
   "cell_type": "code",
   "execution_count": 120,
   "metadata": {},
   "outputs": [
    {
     "data": {
      "text/plain": [
       "0.9119"
      ]
     },
     "execution_count": 120,
     "metadata": {},
     "output_type": "execute_result"
    }
   ],
   "source": [
    "get_accuracy(fc_net, testloader)"
   ]
  },
  {
   "cell_type": "markdown",
   "metadata": {},
   "source": [
    "### Tanh"
   ]
  },
  {
   "cell_type": "code",
   "execution_count": 121,
   "metadata": {},
   "outputs": [],
   "source": [
    "class FCNet(nn.Module):\n",
    "    def __init__(self):\n",
    "        super().__init__() #  это надо помнить!\n",
    "        ## YOUR CODE HERE\n",
    "        self.fc1 = nn.Linear(in_features=28*28, out_features=256)\n",
    "        self.fc2 = nn.Linear(in_features=256, out_features=2128)\n",
    "        self.fc3 = nn.Linear(in_features=2128, out_features=10)\n",
    "\n",
    "\n",
    "    def forward(self, x):  # Forward вызывается внутри метода __call__ родительского класса\n",
    "        x = x.view(-1, 28*28)\n",
    "        x = self.fc1(x)\n",
    "        x = F.tanh(x)\n",
    "        x = self.fc2(x)\n",
    "        x = F.tanh(x)\n",
    "        logits = self.fc3(x)\n",
    "        ## x -> тензор размерности (BATCH_SIZE, N_CHANNELS, WIDTH, HEIGHT)\n",
    "        ## надо подумать над тем, что у нас полносвязные слои принимают векторы\n",
    "\n",
    "        ## YOUR CODE HERE\n",
    "\n",
    "        return logits"
   ]
  },
  {
   "cell_type": "code",
   "execution_count": 122,
   "metadata": {},
   "outputs": [
    {
     "name": "stdout",
     "output_type": "stream",
     "text": [
      "CPU times: user 3min 30s, sys: 6.97 s, total: 3min 37s\n",
      "Wall time: 24.1 s\n"
     ]
    }
   ],
   "source": [
    "%%time\n",
    "n_epochs = 10\n",
    "loss_history = []\n",
    "\n",
    "n_epochs = 10\n",
    "loss_history = []\n",
    "\n",
    "for epoch in range(n_epochs):\n",
    "    epoch_loss = 0\n",
    "    for images, labels in trainloader: \n",
    "        optimizer.zero_grad()\n",
    "        outputs = fc_net(images) \n",
    "        loss = loss_function(outputs, labels) \n",
    "        loss.backward() \n",
    "        optimizer.step() \n",
    "\n",
    "        epoch_loss += loss.item()\n",
    "\n",
    "    loss_history.append(epoch_loss/len(trainloader))\n"
   ]
  },
  {
   "cell_type": "code",
   "execution_count": 123,
   "metadata": {},
   "outputs": [
    {
     "data": {
      "text/plain": [
       "0.9123"
      ]
     },
     "execution_count": 123,
     "metadata": {},
     "output_type": "execute_result"
    }
   ],
   "source": [
    "get_accuracy(fc_net, testloader)"
   ]
  },
  {
   "cell_type": "markdown",
   "metadata": {
    "id": "aG2Oyxy2egVV"
   },
   "source": [
    "С использованием какой функции активации удалось досчить наибольшей `accuracy`?"
   ]
  },
  {
   "cell_type": "markdown",
   "metadata": {
    "id": "5SaqWhlkjuO3"
   },
   "source": [
    "Tanh"
   ]
  },
  {
   "cell_type": "markdown",
   "metadata": {
    "id": "20Ls3Bfsifqd"
   },
   "source": [
    "### Задание 6. Другие оптимизаторы\n",
    "\n",
    "**4** балла\n",
    "\n",
    "Исследуйте влияние оптимизаторов на скорость обучения и точность предсказаний модели.\n",
    "\n",
    "Попробуйте следующие:\n",
    "\n",
    "* [Adam](https://pytorch.org/docs/stable/generated/torch.optim.Adam.html#torch.optim.Adam)\n",
    "* [RMSprop](https://pytorch.org/docs/stable/generated/torch.optim.RMSprop.html#torch.optim.RMSprop)\n",
    "* [Adagrad](https://pytorch.org/docs/stable/generated/torch.optim.Adagrad.html#torch.optim.Adagrad)\n",
    "\n",
    "Вам нужно снова обучить 3 модели и сравнить их перформанс (функцию активации используйте ту, которая показала себя лучше всего)."
   ]
  },
  {
   "cell_type": "markdown",
   "metadata": {},
   "source": [
    "Adam использовался изначально"
   ]
  },
  {
   "cell_type": "markdown",
   "metadata": {},
   "source": [
    "### Adagrad"
   ]
  },
  {
   "cell_type": "code",
   "execution_count": 186,
   "metadata": {
    "id": "rzL2LdA-ifJh"
   },
   "outputs": [
    {
     "name": "stdout",
     "output_type": "stream",
     "text": [
      "CPU times: user 3min 41s, sys: 10.1 s, total: 3min 51s\n",
      "Wall time: 25.1 s\n"
     ]
    }
   ],
   "source": [
    "%%time\n",
    "optimizer = torch.optim.Adagrad(fc_net.parameters(), lr=3e-4)\n",
    "\n",
    "n_epochs = 10\n",
    "loss_history = []\n",
    "\n",
    "for epoch in range(n_epochs):\n",
    "    epoch_loss = 0\n",
    "    for images, labels in trainloader: \n",
    "        optimizer.zero_grad()\n",
    "        outputs = fc_net(images) \n",
    "        loss = loss_function(outputs, labels) \n",
    "        loss.backward() \n",
    "        optimizer.step() \n",
    "\n",
    "        epoch_loss += loss.item()\n",
    "\n",
    "    loss_history.append(epoch_loss/len(trainloader))\n"
   ]
  },
  {
   "cell_type": "code",
   "execution_count": 187,
   "metadata": {},
   "outputs": [
    {
     "data": {
      "text/plain": [
       "0.9149"
      ]
     },
     "execution_count": 187,
     "metadata": {},
     "output_type": "execute_result"
    }
   ],
   "source": [
    "get_accuracy(fc_net, testloader)"
   ]
  },
  {
   "cell_type": "markdown",
   "metadata": {},
   "source": [
    "### RMSprop"
   ]
  },
  {
   "cell_type": "code",
   "execution_count": 128,
   "metadata": {},
   "outputs": [
    {
     "name": "stdout",
     "output_type": "stream",
     "text": [
      "CPU times: user 3min 48s, sys: 7.47 s, total: 3min 56s\n",
      "Wall time: 26.7 s\n"
     ]
    }
   ],
   "source": [
    "%%time\n",
    "optimizer = torch.optim.RMSprop(fc_net.parameters(), lr=3e-4)\n",
    "\n",
    "n_epochs = 10\n",
    "loss_history = []\n",
    "\n",
    "for epoch in range(n_epochs):\n",
    "    epoch_loss = 0\n",
    "    for images, labels in trainloader: \n",
    "        optimizer.zero_grad()\n",
    "        outputs = fc_net(images) \n",
    "        loss = loss_function(outputs, labels) \n",
    "        loss.backward() \n",
    "        optimizer.step() \n",
    "\n",
    "        epoch_loss += loss.item()\n",
    "\n",
    "    loss_history.append(epoch_loss/len(trainloader))\n"
   ]
  },
  {
   "cell_type": "code",
   "execution_count": 129,
   "metadata": {},
   "outputs": [
    {
     "data": {
      "text/plain": [
       "0.8993"
      ]
     },
     "execution_count": 129,
     "metadata": {},
     "output_type": "execute_result"
    }
   ],
   "source": [
    "get_accuracy(fc_net, testloader)"
   ]
  },
  {
   "cell_type": "markdown",
   "metadata": {},
   "source": [
    "Наилучшие результаты показал Adagrad"
   ]
  },
  {
   "cell_type": "markdown",
   "metadata": {
    "id": "eHA48PsperxS"
   },
   "source": [
    "### Задание 7. Реализация ReLU\n",
    "\n",
    "**4** балла\n",
    "\n",
    "Самостоятельно реализуйте функцию активации ReLU.\n",
    "Замените в уже обученной модели функцию активации на вашу. Убедитесь что ничего не изменилась."
   ]
  },
  {
   "cell_type": "code",
   "execution_count": 191,
   "metadata": {
    "id": "63uTkUp-a2xr"
   },
   "outputs": [],
   "source": [
    "class CustomReLU(nn.Module):\n",
    "    def __init__(self):\n",
    "        super().__init__()\n",
    "        self.fc1 = nn.Linear(in_features=28*28, out_features=256)\n",
    "        self.fc2 = nn.Linear(in_features=256, out_features=2128)\n",
    "        self.fc3 = nn.Linear(in_features=2128, out_features=10)\n",
    "\n",
    "    def forward(self, x):\n",
    "        x = x.view(-1, 28*28)\n",
    "        x = self.fc1(x)\n",
    "        x = torch.max(torch.zeros_like(x), x)\n",
    "        x = self.fc2(x)\n",
    "        x = torch.max(torch.zeros_like(x), x)\n",
    "        logits = self.fc3(x)\n",
    "\n",
    "        return logits"
   ]
  },
  {
   "cell_type": "markdown",
   "metadata": {
    "id": "xsKzxa33fhbN"
   },
   "source": [
    "Заново обучите модель и проверьте правильность реализации `CustomReLU`."
   ]
  },
  {
   "cell_type": "code",
   "execution_count": 192,
   "metadata": {},
   "outputs": [
    {
     "name": "stdout",
     "output_type": "stream",
     "text": [
      "CPU times: user 3min 42s, sys: 8.39 s, total: 3min 50s\n",
      "Wall time: 25.4 s\n"
     ]
    }
   ],
   "source": [
    "%%time\n",
    "cstm_RL = CustomReLU()\n",
    "optimizer = torch.optim.Adagrad(cstm_RL.parameters(), lr=3e-4)\n",
    "\n",
    "n_epochs = 10\n",
    "loss_history = []\n",
    "\n",
    "for epoch in range(n_epochs):\n",
    "    epoch_loss = 0\n",
    "    for images, labels in trainloader: \n",
    "        optimizer.zero_grad()\n",
    "        outputs = cstm_RL(images) \n",
    "        loss = loss_function(outputs, labels) \n",
    "        loss.backward() \n",
    "        optimizer.step() \n",
    "\n",
    "        epoch_loss += loss.item()\n",
    "\n",
    "    loss_history.append(epoch_loss/len(trainloader))\n"
   ]
  },
  {
   "cell_type": "code",
   "execution_count": 193,
   "metadata": {},
   "outputs": [
    {
     "data": {
      "text/plain": [
       "0.7687"
      ]
     },
     "execution_count": 193,
     "metadata": {},
     "output_type": "execute_result"
    }
   ],
   "source": [
    "get_accuracy(cstm_RL, testloader)"
   ]
  },
  {
   "cell_type": "markdown",
   "metadata": {},
   "source": [
    "Не понимаю, в чем тут проблема. Accuracy получается меньше. Прошу объяснить при ревью"
   ]
  },
  {
   "cell_type": "markdown",
   "metadata": {
    "id": "vWBG1mMwgN17"
   },
   "source": [
    "### Задание 8. Генерация картинок\n",
    "\n",
    "**3** балла\n",
    "\n",
    "Придумайте 3 предложения и сгенерируйте при помощи них 3 картинки, используя телеграм бота [ruDALLE](https://t.me/sber_rudalle_xl_bot). Прикрепите сюда ваши картины."
   ]
  },
  {
   "cell_type": "markdown",
   "metadata": {
    "id": "hlqgll9qecdZ"
   },
   "source": [
    "![Изображение №1](../data/image_3.jpg)"
   ]
  },
  {
   "cell_type": "markdown",
   "metadata": {},
   "source": [
    "![Изображение №2](../data/image_2.jpg)"
   ]
  },
  {
   "cell_type": "markdown",
   "metadata": {},
   "source": [
    "![Изображение №3](../data/image_1.jpg)"
   ]
  },
  {
   "cell_type": "markdown",
   "metadata": {},
   "source": [
    "Всё-таки сильно заметна версия"
   ]
  }
 ],
 "metadata": {
  "colab": {
   "authorship_tag": "ABX9TyN3ji5dthhFgQhP1CJ7JjiU",
   "include_colab_link": true,
   "provenance": []
  },
  "kernelspec": {
   "display_name": "Python 3 (ipykernel)",
   "language": "python",
   "name": "python3"
  },
  "language_info": {
   "codemirror_mode": {
    "name": "ipython",
    "version": 3
   },
   "file_extension": ".py",
   "mimetype": "text/x-python",
   "name": "python",
   "nbconvert_exporter": "python",
   "pygments_lexer": "ipython3",
   "version": "3.11.6"
  }
 },
 "nbformat": 4,
 "nbformat_minor": 4
}
